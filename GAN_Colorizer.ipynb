{
  "nbformat": 4,
  "nbformat_minor": 0,
  "metadata": {
    "accelerator": "GPU",
    "colab": {
      "name": "GAN Colorizer",
      "provenance": [],
      "collapsed_sections": [],
      "toc_visible": true
    },
    "kernelspec": {
      "display_name": "Python 3",
      "name": "python3"
    }
  },
  "cells": [
    {
      "cell_type": "markdown",
      "metadata": {
        "id": "WuNMLmsRYswO"
      },
      "source": [
        "# `Gan Colorizer - By Xenon`\n",
        "##### It based on deoldify but more efficiently and stable. It using neural network for the finding best frames to colorize. Other things you must know, this Colabratory uses CUDA, +6GB GPU and +6GB CPU. First check your runtime before the running tool.\n",
        " \n",
        "# `Also See 🔎`\n",
        "[**WhatsAsena 🐺**](https://github.com/phaticusthiccy/WhatsAsenaDuplicated) (*World's first User Bot made for WhatsApp.*)\n",
        " \n",
        "[**Telegram Group 📢**](https://t.me/asenaremaster) (*Telegram support group.*)\n",
        " \n",
        "[**Telegram Contact ℹ️**](https://t.me/phaticusthiccy) (*Thiccy - Xenon*)\n",
        " \n",
        "[**Author Github 💻**](https://github.com/phaticusthiccy) (*Developer / Software Codder*)"
      ]
    },
    {
      "cell_type": "code",
      "metadata": {
        "id": "7Wsv1XARZTfw"
      },
      "source": [
        "!nvidia-smi --query-gpu=gpu_name,driver_version,memory.total --format=csv\n",
        " \n",
        "from IPython.display import clear_output \n",
        "import os\n",
        "import time\n",
        "import tkinter\n",
        " \n",
        "print(\"Write Your GPU Memory!\")\n",
        " \n",
        "x = int(input())\n",
        " \n",
        "if x > 6000:\n",
        " \n",
        "    clear_output()\n",
        "    print(\"\\n✅ GPU Useable!\")\n",
        " \n",
        "    from tensorflow.python.client import device_lib\n",
        "    device_lib.list_local_devices()\n",
        " \n",
        "    print(\"\\n✅ Done! Go to the next step.\")\n",
        " \n",
        "else:\n",
        " \n",
        "    clear_output()\n",
        "    print(\"\\n❌ GPU Unusable!\")\n",
        "    Memory_Quated()"
      ],
      "execution_count": null,
      "outputs": []
    },
    {
      "cell_type": "code",
      "metadata": {
        "id": "muOHye--aepZ"
      },
      "source": [
        " \n",
        "#@title don't show code till dblclick\n",
        "from IPython.display import clear_output \n",
        "import os\n",
        "print(\"\\n\\nTesting CPU\\n\\n\")\n",
        "!cat /proc/meminfo\n",
        " \n",
        "print(\"\\n\\nWrite Your MemTotal Value\")\n",
        " \n",
        "x = int(input())\n",
        "if x < 600000:\n",
        " \n",
        "    clear_output()\n",
        "    print(\"\\n❌ Error! Insufficient RAM\")\n",
        "    Memory_Quated()\n",
        " \n",
        "else:\n",
        "    clear_output()\n",
        "    print(\"\\n✅ RAM Useable!\")\n",
        "    time.sleep(2.4)\n",
        "    print(\"🔎 Uploading PyStream\")\n",
        "    !pip install -U -q PyStemmer\n",
        "    clear_output()\n",
        "    print(\"\\n✅ Done! Go to the next step.\")"
      ],
      "execution_count": null,
      "outputs": []
    },
    {
      "cell_type": "code",
      "metadata": {
        "id": "iM8nRgsSgRjG"
      },
      "source": [
        " \n",
        "# Cloning External Repository\n",
        " \n",
        "!git clone https://github.com/jantic/DeOldify.git DeOldify\n",
        "from IPython.display import clear_output \n",
        "import os\n",
        "clear_output()\n",
        "print(\"\\n✅ Done! Go to the next step.\")"
      ],
      "execution_count": null,
      "outputs": []
    },
    {
      "cell_type": "code",
      "metadata": {
        "id": "nn6fPxek107q"
      },
      "source": [
        "cd DeOldify"
      ],
      "execution_count": null,
      "outputs": []
    },
    {
      "cell_type": "code",
      "metadata": {
        "id": "B4If-Wyt3RuH"
      },
      "source": [
        " \n",
        "from deoldify import device\n",
        "from deoldify.device_id import DeviceId\n",
        "#choices:  CPU, GPU0...GPU7\n",
        "device.set(device=DeviceId.GPU0)\n",
        " \n",
        "import torch\n",
        " \n",
        "if not torch.cuda.is_available():\n",
        "    print('❌ GPU Not Available.')\n",
        " \n",
        "from os import path"
      ],
      "execution_count": null,
      "outputs": []
    },
    {
      "cell_type": "code",
      "metadata": {
        "id": "3UKAsAIp3kmK"
      },
      "source": [
        "!pip install -r colab_requirements.txt\n",
        " \n",
        "from IPython.display import clear_output \n",
        "import os\n",
        "import time\n",
        "print(\"\\n✅ Done! Downloading Other Packages.\\n\")\n",
        "time.sleep(2.7)\n",
        " \n",
        "import fastai\n",
        "from deoldify.visualize import *\n",
        "from pathlib import Path\n",
        "torch.backends.cudnn.benchmark=True\n",
        "import warnings\n",
        "warnings.filterwarnings(\"ignore\", category=UserWarning, message=\".*?Your .*? set is empty.*?\")\n",
        " \n",
        "clear_output()\n",
        "print(\"✅ Done! Go to the next step.\")"
      ],
      "execution_count": null,
      "outputs": []
    },
    {
      "cell_type": "code",
      "metadata": {
        "id": "YUq3kFvS4mGA"
      },
      "source": [
        "!mkdir 'models'\n",
        "!wget https://data.deepai.org/deoldify/ColorizeVideo_gen.pth -O ./models/ColorizeVideo_gen.pth\n",
        "!apt install ffmpeg\n",
        " \n",
        "from IPython.display import clear_output \n",
        "import os\n",
        "clear_output()\n",
        "print(\"✅ Done! Go to the next step.\")"
      ],
      "execution_count": null,
      "outputs": []
    },
    {
      "cell_type": "code",
      "metadata": {
        "id": "O8QPjOOx5FP6"
      },
      "source": [
        "!wget https://media.githubusercontent.com/media/jantic/DeOldify/master/resource_images/watermark.png -O ./resource_images/watermark.png\n",
        "!wget https://imgur.com/rwZ2kRv.mp4"
      ],
      "execution_count": null,
      "outputs": []
    },
    {
      "cell_type": "code",
      "metadata": {
        "id": "c4uBns8k_W2m"
      },
      "source": [
        "colorizer = get_video_colorizer()"
      ],
      "execution_count": null,
      "outputs": []
    },
    {
      "cell_type": "code",
      "metadata": {
        "id": "YRcPFcQH6RH7"
      },
      "source": [
        "from IPython.display import HTML\n",
        "from base64 import b64encode\n",
        "mp4 = open('rwZ2kRv.mp4','rb').read()\n",
        "data_url = \"data:video/mp4;base64,\" + b64encode(mp4).decode()\n",
        "HTML(\"\"\"\n",
        "<video width=400 controls>\n",
        "      <source src=\"%s\" type=\"video/mp4\">\n",
        "</video>\n",
        "\"\"\" % data_url)"
      ],
      "execution_count": null,
      "outputs": []
    },
    {
      "cell_type": "markdown",
      "metadata": {
        "id": "HWW0odCEGTEm"
      },
      "source": [
        "##`Video_URL`\n",
        " \n",
        "######Type in a url hosting a video from YouTube, Imgur, Twitter, Reddit, Vimeo, etc. Many sources work! GIFs also work. [Full list here:](https://ytdl-org.github.io/youtube-dl/supportedsites.html) \n",
        " \n",
        "**NOTE:** If you want to use your own video, upload it first to a site like YouTube.\n",
        " \n",
        "##`Render_Factor`\n",
        " \n",
        "######The default value of 21 has been carefully chosen and should work -ok- for most scenarios (but probably won't be the -best-)."
      ]
    },
    {
      "cell_type": "code",
      "metadata": {
        "colab": {
          "background_save": true
        },
        "id": "CWTvDRuRF5vq"
      },
      "source": [
        "source_url = '' #@param {type:\"string\"}\n",
        "render_factor = 20  #@param {type: \"slider\", min: 5, max: 40}\n",
        "watermarked = False #@param {type:\"boolean\"}\n",
        " \n",
        "if source_url is not None and source_url !='':\n",
        "    video_path = colorizer.colorize_from_url(source_url, 'video.mp4', render_factor, watermarked=watermark)\n",
        "    show_video_in_notebook(video_path)\n",
        "else:\n",
        "    print('❌ Please Provide a Video URL.')"
      ],
      "execution_count": null,
      "outputs": []
    }
  ]
}
